{
 "cells": [
  {
   "cell_type": "markdown",
   "id": "fa0671ca",
   "metadata": {},
   "source": [
    "# <font color='darkblue'>Como Calcular o VAR de Uma Carteira com Python \n",
    "### <font color='darkblue'> Documentação Numpay e Yfinance\n",
    "https://numpy.org/pt/\n",
    "    \n",
    "https://pypi.org/project/yfinance/"
   ]
  },
  {
   "cell_type": "markdown",
   "id": "1abf0898",
   "metadata": {},
   "source": [
    "### <font color='darkblue'>Link da Aula, Para Acompanhamento    \n",
    "https://www.youtube.com/watch?v=KKWaPrXIYTA&list=PLQkgHGk8rux6L42KC9l6R25AD7iimkLi_&index=8"
   ]
  },
  {
   "cell_type": "code",
   "execution_count": 13,
   "id": "1620763e",
   "metadata": {},
   "outputs": [],
   "source": [
    "# Instalar as bibliotecas abaixo:\n",
    "# !pip install numpy\n",
    "# !pip install yfinance\n",
    "# Para olhar se a biblioteca já está instalada, deve-se ir no Prompet do Anaconda e digitar: pip freeze"
   ]
  },
  {
   "cell_type": "code",
   "execution_count": 21,
   "id": "d6c37b5a",
   "metadata": {},
   "outputs": [],
   "source": [
    "# Importar as bibliotecas\n",
    "\n",
    "# Biblioteca para a linguagem Python com funções para se trabalhar com computação numérica\n",
    "import numpy as np\n",
    "\n",
    "# Essa biblioteca efetua análise de dados financeiros utilizando a linguagem de programação Python.\n",
    "import yfinance as yf"
   ]
  },
  {
   "cell_type": "markdown",
   "id": "69363956",
   "metadata": {},
   "source": [
    "### <font color='darkblue'>Calcular o (Value At Risk) Histórico de Uma Ação"
   ]
  },
  {
   "cell_type": "code",
   "execution_count": 25,
   "id": "d9707525",
   "metadata": {},
   "outputs": [],
   "source": [
    "def var_historico(acao, alpha = 0.05, periodo = \"D\"):\n",
    "    \n",
    "    dados_acao = yf.download(acao)['Adj Close']\n",
    "    \n",
    "    if periodo == \"M\":\n",
    "        \n",
    "        retorno_acao = dados_acao.resample(\"M\").last().pct_change().dropna()\n",
    "        \n",
    "    else:\n",
    "        \n",
    "        retorno_acao = dados_acao.pct_change().dropna()\n",
    "        \n",
    "    retornos_ordenadados = np.sort(retorno_acao.values)\n",
    "    \n",
    "    posicao_do_retorno_alpha = int(alpha * len(retornos_ordenadados))\n",
    "    \n",
    "    retorno_var = retornos_ordenadados[posicao_do_retorno_alpha]\n",
    "    \n",
    "    return retorno_var"
   ]
  },
  {
   "cell_type": "markdown",
   "id": "4c944146",
   "metadata": {},
   "source": [
    "### <font color='darkblue'> O (VAR - Value At Risk) Com o Menor Retorno de Segurança por dia"
   ]
  },
  {
   "cell_type": "code",
   "execution_count": 28,
   "id": "ee30967c",
   "metadata": {},
   "outputs": [
    {
     "name": "stdout",
     "output_type": "stream",
     "text": [
      "[*********************100%***********************]  1 of 1 completed\n",
      "O VAR com 95% de intervalo de confiança é: -2.80%\n"
     ]
    }
   ],
   "source": [
    "acao = \"WEGE3.SA\"\n",
    "var = var_historico(acao) * 100\n",
    "print(f\"O VAR com 95% de intervalo de confiança é: {var:.2f}%\")\n",
    "\n",
    "# Conforme análise abaixo a (WEG3.SA) tem 95% de chanse de cair (menos que -2,80%) conforme dados históricos por dia. "
   ]
  },
  {
   "cell_type": "markdown",
   "id": "9010d026",
   "metadata": {},
   "source": [
    "### <font color='darkblue'> O (VAR - Value At Risk) Com o Menor Retorno de Segurança por mês"
   ]
  },
  {
   "cell_type": "code",
   "execution_count": 30,
   "id": "07051120",
   "metadata": {},
   "outputs": [
    {
     "name": "stdout",
     "output_type": "stream",
     "text": [
      "[*********************100%***********************]  1 of 1 completed\n",
      "O VAR com 95% de intervalo de confiança é: -9.90%\n"
     ]
    }
   ],
   "source": [
    "acao = \"WEGE3.SA\"\n",
    "var = var_historico(acao, periodo = \"M\") * 100\n",
    "print(f\"O VAR com 95% de intervalo de confiança é: {var:.2f}%\")\n",
    "\n",
    "# Conforme análise abaixo a (WEG3.SA) tem 95% de chanse de cair menos que (-9,90%) conforme dados históricos por mês. "
   ]
  },
  {
   "cell_type": "markdown",
   "id": "1857bf7a",
   "metadata": {},
   "source": [
    "### <font color='Red'> Obs. (Para entender o que aconteceu anteriormente na apuração acima)"
   ]
  },
  {
   "cell_type": "code",
   "execution_count": 27,
   "id": "c99049bb",
   "metadata": {},
   "outputs": [
    {
     "name": "stdout",
     "output_type": "stream",
     "text": [
      "[*********************100%***********************]  1 of 1 completed\n"
     ]
    },
    {
     "data": {
      "text/plain": [
       "array([-0.20619744, -0.15816361, -0.14809211, ...,  0.28571508,\n",
       "        0.31528171,  0.32203588])"
      ]
     },
     "execution_count": 27,
     "metadata": {},
     "output_type": "execute_result"
    }
   ],
   "source": [
    "# Para rodar os dados da ação da \"WEG3.SA\"\n",
    "dados_acao = yf.download(\"WEGE3.SA\")['Adj Close']\n",
    "\n",
    "# Para calcular os retornos diário da ação\n",
    "retorno_acao = dados_acao.pct_change().dropna()\n",
    "\n",
    "# Se quiser calcular o retorno mensal da ação seria \n",
    "# retorno_acao = dados_acao.resample(\"M\").last().pct_change().dropna()\n",
    "\n",
    "\n",
    "retorno_ordenados = np.sort(retorno_acao.values)\n",
    "retorno_ordenados\n",
    "\n",
    "# A Abaixo teremos o retorno da WEG3.SA: O pior retorno no dia (-20,61%) e o melhror retorno no dia (32,20%)"
   ]
  },
  {
   "cell_type": "markdown",
   "id": "a49ff5ab",
   "metadata": {},
   "source": [
    "###### <font color='Red'> Projeto (22/10/2023): Cálculo do (VAR - Value At Risk) - William E. Santos. "
   ]
  }
 ],
 "metadata": {
  "kernelspec": {
   "display_name": "Python 3 (ipykernel)",
   "language": "python",
   "name": "python3"
  },
  "language_info": {
   "codemirror_mode": {
    "name": "ipython",
    "version": 3
   },
   "file_extension": ".py",
   "mimetype": "text/x-python",
   "name": "python",
   "nbconvert_exporter": "python",
   "pygments_lexer": "ipython3",
   "version": "3.9.12"
  }
 },
 "nbformat": 4,
 "nbformat_minor": 5
}
